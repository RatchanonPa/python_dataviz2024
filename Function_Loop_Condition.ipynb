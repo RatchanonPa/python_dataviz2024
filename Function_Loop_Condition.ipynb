{
  "nbformat": 4,
  "nbformat_minor": 0,
  "metadata": {
    "kernelspec": {
      "display_name": "Python 3",
      "language": "python",
      "name": "python3"
    },
    "language_info": {
      "codemirror_mode": {
        "name": "ipython",
        "version": 3
      },
      "file_extension": ".py",
      "mimetype": "text/x-python",
      "name": "python",
      "nbconvert_exporter": "python",
      "pygments_lexer": "ipython3",
      "version": "3.7.4"
    },
    "colab": {
      "provenance": [],
      "toc_visible": true,
      "include_colab_link": true
    }
  },
  "cells": [
    {
      "cell_type": "markdown",
      "metadata": {
        "id": "view-in-github",
        "colab_type": "text"
      },
      "source": [
        "<a href=\"https://colab.research.google.com/github/RatchanonPa/python_dataviz2024/blob/main/Function_Loop_Condition.ipynb\" target=\"_parent\"><img src=\"https://colab.research.google.com/assets/colab-badge.svg\" alt=\"Open In Colab\"/></a>"
      ]
    },
    {
      "cell_type": "markdown",
      "source": [
        "HW1 Note"
      ],
      "metadata": {
        "id": "h_d5dnumRTnw"
      }
    },
    {
      "cell_type": "code",
      "source": [
        "inp = '12:30:15-13.41.07'\n",
        "inp_list = inp.split('-')\n",
        "inp_list"
      ],
      "metadata": {
        "colab": {
          "base_uri": "https://localhost:8080/"
        },
        "id": "M0WIaD28RJLo",
        "outputId": "c497aa37-e40a-4941-8f4f-91b1d9395ccf"
      },
      "execution_count": null,
      "outputs": [
        {
          "output_type": "execute_result",
          "data": {
            "text/plain": [
              "['12:30:15', '13.41.07']"
            ]
          },
          "metadata": {},
          "execution_count": 1
        }
      ]
    },
    {
      "cell_type": "markdown",
      "metadata": {
        "id": "-57L9aVubPqU"
      },
      "source": [
        "# Function"
      ]
    },
    {
      "cell_type": "markdown",
      "metadata": {
        "id": "1DNzYhO4bPqb"
      },
      "source": [
        "## Function template\n",
        "#### ทำหน้าที่รับ input มาประมวณผลออกมาเป็น output\n",
        "#### f(x) = y"
      ]
    },
    {
      "cell_type": "markdown",
      "metadata": {
        "id": "3Nv1ZDEKbPqc"
      },
      "source": [
        "### def คือการกำหนดฟังก์ชัน"
      ]
    },
    {
      "cell_type": "markdown",
      "metadata": {
        "id": "YnjWc1vXl1VF"
      },
      "source": [
        "\n",
        "backtick (`) ==> กด ~ ค้าง, alt - 9>6 (full keyboard with number)\n",
        "\n",
        "tilde (~)\n",
        "\n",
        "curly bracket ({ })\n",
        "\n",
        "square bracket ([ ])"
      ]
    },
    {
      "cell_type": "markdown",
      "metadata": {
        "id": "DbHDoWEabPqc"
      },
      "source": [
        "```python\n",
        "    def function_name(_Input_) :\n",
        "        do_something with _Input_ to get _Output_\n",
        "        return _Output_\n",
        "```"
      ]
    },
    {
      "cell_type": "markdown",
      "metadata": {
        "id": "kh2M1smCl5Iv"
      },
      "source": [
        "function มีส่วนสำคัญทั้งหมด 4 ส่วน\n",
        "\n",
        "1.   บอก python ว่าเราจะเขียนฟังก์ชั่น ชื่ออะไร  ```def function_name():``` (ขาดไม่ได้)\n",
        "2.   กำหนดตัวแปรที่จะเป็น input  ```_Input_``` (ขาดได้)\n",
        "3.   ส่วนประมวลผล ```do_something with _Input_ to get _Output_``` (ขาดไม่ได้)\n",
        "4.   ส่วน output ```return _Output_```(ขาดได้)\n",
        "\n"
      ]
    },
    {
      "cell_type": "markdown",
      "metadata": {
        "id": "lqWzVN5AbPqc"
      },
      "source": [
        "#### ตัวอย่างการเขียน normal function\n"
      ]
    },
    {
      "cell_type": "code",
      "source": [
        "def print_myname():   #ตัวอย่าง function ที่ไม่มีทั้ง input และ output\n",
        "  print('Ratchanon')"
      ],
      "metadata": {
        "id": "RHAM4b9ATip3"
      },
      "execution_count": null,
      "outputs": []
    },
    {
      "cell_type": "code",
      "source": [
        "print_myname()"
      ],
      "metadata": {
        "colab": {
          "base_uri": "https://localhost:8080/"
        },
        "id": "LDXjzyjPTxU-",
        "outputId": "10d9a083-b7cb-4af0-b323-8bb9870f7dc5"
      },
      "execution_count": null,
      "outputs": [
        {
          "output_type": "stream",
          "name": "stdout",
          "text": [
            "Ratchanon\n"
          ]
        }
      ]
    },
    {
      "cell_type": "code",
      "metadata": {
        "id": "n706WULobPqc"
      },
      "source": [
        "def print_name(surname,ID,name): #ตัวอย่างฟังก์ชันที่มี input หลายตัวกับ output 1 ตัว\n",
        "    st = f'ชื่อ {name} นามสกุล {surname} รหัส {ID}'\n",
        "    return st"
      ],
      "execution_count": null,
      "outputs": []
    },
    {
      "cell_type": "code",
      "metadata": {
        "colab": {
          "base_uri": "https://localhost:8080/",
          "height": 36
        },
        "id": "muh0pi_Gkym8",
        "outputId": "d70d61a6-19d7-4cb9-f493-5fca1ba11290"
      },
      "source": [
        "print_name('อินทระ','64xxxxxx','ธนพงศ์')"
      ],
      "execution_count": null,
      "outputs": [
        {
          "output_type": "execute_result",
          "data": {
            "text/plain": [
              "'ชื่อ ธนพงศ์ นามสกุล อินทระ รหัส 64xxxxxx'"
            ],
            "application/vnd.google.colaboratory.intrinsic+json": {
              "type": "string"
            }
          },
          "metadata": {},
          "execution_count": 8
        }
      ]
    },
    {
      "cell_type": "code",
      "metadata": {
        "colab": {
          "base_uri": "https://localhost:8080/"
        },
        "id": "I1Kt_GOpbPqd",
        "outputId": "c5785a2a-0092-42ce-be8c-5506d8b00fd4"
      },
      "source": [
        "print(print_name(name='กาญจนา',surname='ประสาคุณ',ID='603021855-2'))"
      ],
      "execution_count": null,
      "outputs": [
        {
          "output_type": "stream",
          "name": "stdout",
          "text": [
            "ชื่อ กาญจนา นามสกุล ประสาคุณ รหัส 603021855-2\n"
          ]
        }
      ]
    },
    {
      "cell_type": "code",
      "source": [
        "print_name(name='รัชชานนท์', surname='พันกาฬสินธุ์', ID='653020217-4')"
      ],
      "metadata": {
        "colab": {
          "base_uri": "https://localhost:8080/",
          "height": 36
        },
        "id": "-hFAf432VrkV",
        "outputId": "687cf175-dffe-41d4-ff05-3271ec2b9151"
      },
      "execution_count": null,
      "outputs": [
        {
          "output_type": "execute_result",
          "data": {
            "text/plain": [
              "'ชื่อ รัชชานนท์ นามสกุล พันกาฬสินธุ์ รหัส 653020217-4'"
            ],
            "application/vnd.google.colaboratory.intrinsic+json": {
              "type": "string"
            }
          },
          "metadata": {},
          "execution_count": 11
        }
      ]
    },
    {
      "cell_type": "markdown",
      "metadata": {
        "id": "1fuimreqpVhU"
      },
      "source": [
        "เราใช้ เว้นวรรค (indent) เพื่อบอกขอบเขตของโปรแกรม"
      ]
    },
    {
      "cell_type": "markdown",
      "source": [],
      "metadata": {
        "id": "QaP7bo3eW08G"
      }
    },
    {
      "cell_type": "code",
      "source": [
        "out_printname1 = print_name(name='รัชชานนท์', surname='พันกาฬสินธุ์', ID='653020217-4')#มี output"
      ],
      "metadata": {
        "id": "0nNfOU3dW2Qu"
      },
      "execution_count": null,
      "outputs": []
    },
    {
      "cell_type": "code",
      "source": [
        "out_printname1"
      ],
      "metadata": {
        "colab": {
          "base_uri": "https://localhost:8080/",
          "height": 36
        },
        "id": "tD7Vl6HHXg1u",
        "outputId": "acefa83e-674b-478c-fcb5-1f066cbc9461"
      },
      "execution_count": null,
      "outputs": [
        {
          "output_type": "execute_result",
          "data": {
            "text/plain": [
              "'ชื่อ รัชชานนท์ นามสกุล พันกาฬสินธุ์ รหัส 653020217-4'"
            ],
            "application/vnd.google.colaboratory.intrinsic+json": {
              "type": "string"
            }
          },
          "metadata": {},
          "execution_count": 13
        }
      ]
    },
    {
      "cell_type": "markdown",
      "metadata": {
        "id": "tSV-FUQBpx0i"
      },
      "source": [
        "ฟังก์ชั่นไม่จำเป็นต้องมี output"
      ]
    },
    {
      "cell_type": "code",
      "metadata": {
        "id": "loNAFSvLo5dC"
      },
      "source": [
        "def print_name2(surname,ID,name):\n",
        "    st = f'ชื่อ {name} นามสกุล {surname} รหัส {ID}'\n",
        "    print(st)"
      ],
      "execution_count": null,
      "outputs": []
    },
    {
      "cell_type": "code",
      "metadata": {
        "colab": {
          "base_uri": "https://localhost:8080/"
        },
        "id": "JE88oCj8o_j_",
        "outputId": "e4388ec3-2203-452b-862a-a1311ef4775b"
      },
      "source": [
        "print_name2(name='กาญจนา',surname='ประสาคุณ',ID='603021855-2')"
      ],
      "execution_count": null,
      "outputs": [
        {
          "output_type": "stream",
          "text": [
            "ชื่อ กาญจนา นามสกุล ประสาคุณ รหัส 603021855-2\n"
          ],
          "name": "stdout"
        }
      ]
    },
    {
      "cell_type": "markdown",
      "metadata": {
        "id": "JF4RdyEBqPyl"
      },
      "source": [
        "ฟังก์ชั่นไม่จำเป็นต้องมี input"
      ]
    },
    {
      "cell_type": "code",
      "metadata": {
        "id": "LNb_o_ZXo_gh"
      },
      "source": [
        "def Pi():\n",
        "    return 3.14159265359"
      ],
      "execution_count": null,
      "outputs": []
    },
    {
      "cell_type": "code",
      "metadata": {
        "colab": {
          "base_uri": "https://localhost:8080/"
        },
        "id": "htN6zLbFo_dr",
        "outputId": "4e015946-8d9d-4f9b-8b59-dc5ff0c325f8"
      },
      "source": [
        "Pi()*(2**2) # หาพื้นที่ของวงกลมที่มีรัศมีเท่ากับ Pi * r^2"
      ],
      "execution_count": null,
      "outputs": [
        {
          "output_type": "execute_result",
          "data": {
            "text/plain": [
              "12.56637061436"
            ]
          },
          "metadata": {
            "tags": []
          },
          "execution_count": 16
        }
      ]
    },
    {
      "cell_type": "markdown",
      "metadata": {
        "id": "ywc0Ho-_rUTu"
      },
      "source": [
        "## เราสามารถกำหนดค่า default ให้กับ input ของฟังก์ชันได้"
      ]
    },
    {
      "cell_type": "markdown",
      "metadata": {
        "id": "y_74dHkjxS7f"
      },
      "source": [
        "input ของ function ใน python มีสองแบบ input ที่จำเป็นต้องใส่ กับ input ที่ไม่จำเป็นต้องใส่ (มีค่า default)\n",
        "\n",
        "เราต้องเรียง input ที่จำเป็นต้องใส่ขึ้นก่อน"
      ]
    },
    {
      "cell_type": "code",
      "metadata": {
        "id": "0Lrh-6mAo_bA"
      },
      "source": [
        "def print_2lines_default(name,surname,ID,grade='F'):\n",
        "    st = f'ชื่อ {name} นามสกุล {surname} รหัส {ID}'\n",
        "    print (st)\n",
        "    st2=f'เกรดวิชา Data Viz >>> {grade}'\n",
        "    print(st2)"
      ],
      "execution_count": null,
      "outputs": []
    },
    {
      "cell_type": "code",
      "metadata": {
        "colab": {
          "base_uri": "https://localhost:8080/"
        },
        "id": "ZH31VIjko_WP",
        "outputId": "15c1d7b0-08a5-46fc-ee0c-9aecb53f1dad"
      },
      "source": [
        "print_2lines_default('ธันยาการต์','พวงมาลัย','613020551-8')"
      ],
      "execution_count": null,
      "outputs": [
        {
          "output_type": "stream",
          "name": "stdout",
          "text": [
            "ชื่อ ธันยาการต์ นามสกุล พวงมาลัย รหัส 613020551-8\n",
            "เกรดวิชา Data Viz >>> F\n"
          ]
        }
      ]
    },
    {
      "cell_type": "code",
      "metadata": {
        "colab": {
          "base_uri": "https://localhost:8080/"
        },
        "id": "FKGr2Iyuo_S2",
        "outputId": "76f76853-c07c-4f23-b627-679af8429220"
      },
      "source": [
        "print_2lines_default('ธันยาการต์','พวงมาลัย','613020551-8','A')"
      ],
      "execution_count": null,
      "outputs": [
        {
          "output_type": "stream",
          "text": [
            "ชื่อ ธันยาการต์ นามสกุล พวงมาลัย รหัส 613020551-8\n",
            "เกรดวิชา Data Viz >>> A\n"
          ],
          "name": "stdout"
        }
      ]
    },
    {
      "cell_type": "code",
      "source": [
        "print_2lines_default('รัชชานนท์', 'พันกาฬสินธุ์', '653020217-4', grade = 'A')"
      ],
      "metadata": {
        "colab": {
          "base_uri": "https://localhost:8080/"
        },
        "id": "B15nPNUKZNHm",
        "outputId": "8a845cb5-b90b-4ebc-9561-cd65f37eca94"
      },
      "execution_count": null,
      "outputs": [
        {
          "output_type": "stream",
          "name": "stdout",
          "text": [
            "ชื่อ รัชชานนท์ นามสกุล พันกาฬสินธุ์ รหัส 653020217-4\n",
            "เกรดวิชา Data Viz >>> A\n"
          ]
        }
      ]
    },
    {
      "cell_type": "code",
      "source": [
        "print_2lines_default('รัชชานนท์', 'พันกาฬสินธุ์')"
      ],
      "metadata": {
        "colab": {
          "base_uri": "https://localhost:8080/",
          "height": 145
        },
        "id": "KyNAM0CjZ2Kz",
        "outputId": "2df91a5a-f91b-4212-e388-f9243d8e8b14"
      },
      "execution_count": null,
      "outputs": [
        {
          "output_type": "error",
          "ename": "TypeError",
          "evalue": "print_2lines_default() missing 1 required positional argument: 'ID'",
          "traceback": [
            "\u001b[0;31m---------------------------------------------------------------------------\u001b[0m",
            "\u001b[0;31mTypeError\u001b[0m                                 Traceback (most recent call last)",
            "\u001b[0;32m<ipython-input-17-a076d6037f33>\u001b[0m in \u001b[0;36m<cell line: 1>\u001b[0;34m()\u001b[0m\n\u001b[0;32m----> 1\u001b[0;31m \u001b[0mprint_2lines_default\u001b[0m\u001b[0;34m(\u001b[0m\u001b[0;34m'รัชชานนท์'\u001b[0m\u001b[0;34m,\u001b[0m \u001b[0;34m'พันกาฬสินธุ์'\u001b[0m\u001b[0;34m)\u001b[0m\u001b[0;34m\u001b[0m\u001b[0;34m\u001b[0m\u001b[0m\n\u001b[0m",
            "\u001b[0;31mTypeError\u001b[0m: print_2lines_default() missing 1 required positional argument: 'ID'"
          ]
        }
      ]
    },
    {
      "cell_type": "markdown",
      "source": [
        "##Quize2 เขียน function ที่รับ input 1 ตัวตาม format\n",
        "hh1:mm1:ss1 - hh2:mm2:ss2 และคำนวณหาช่วงเวลาเป็นวินาทีที่ห่างกันระหว่าง time1 และ time2โดยยังไม่ต้องสนใจว่า time2 ข้ามไปอีกวันได้"
      ],
      "metadata": {
        "id": "KpFt_fkla2iN"
      }
    },
    {
      "cell_type": "code",
      "source": [
        "def my_time(time1, time2):\n",
        "  t1 = time1.split(':')\n",
        "  t2 = time2.split(':')\n",
        "  h11 = t1[0]\n",
        "  m12 = t1[1]\n",
        "  s13 = t1[2]\n",
        "  h21 = t2[0]\n",
        "  m22 = t2[1]\n",
        "  s23 = t2[2]\n",
        "  ts1 = int(h11)*3600 + int(m12)*60 + int(s13)\n",
        "  ts2 = int(h21)*3600 + int(m22)*60 + int(s23)\n",
        "  print(f\"ช่วงเวลาเป็นวินาทีคือ {ts2-ts1} วินาที\")"
      ],
      "metadata": {
        "id": "jW1MYeV1bmm_"
      },
      "execution_count": null,
      "outputs": []
    },
    {
      "cell_type": "code",
      "source": [
        "my_time('12:30:15', '13:41:07')"
      ],
      "metadata": {
        "colab": {
          "base_uri": "https://localhost:8080/"
        },
        "id": "KMtSyl1Fazrp",
        "outputId": "bfff6686-5324-4186-f2c9-681cc969bf4d"
      },
      "execution_count": null,
      "outputs": [
        {
          "output_type": "stream",
          "name": "stdout",
          "text": [
            "ช่วงเวลาเป็นวินาทีคือ 4252 วินาที\n"
          ]
        }
      ]
    },
    {
      "cell_type": "code",
      "source": [
        "def cal_dif_secs(timeinput):\n",
        "  timelist = timeinput.split('-')\n",
        "  time1 = timelist[0].split(':')\n",
        "  time2 = timelist[1].split(':')\n",
        "  time1_sec = int(time1[0])*3600 + int(time1[1])*60 + int(time1[2])\n",
        "  time2_sec = int(time2[0])*3600 + int(time2[1])*60 + int(time2[2])\n",
        "  dift = time2_sec - time1_sec\n",
        "  return dift"
      ],
      "metadata": {
        "id": "nVtc0JFdfOmx"
      },
      "execution_count": null,
      "outputs": []
    },
    {
      "cell_type": "markdown",
      "source": [
        "##Quize3.5"
      ],
      "metadata": {
        "id": "m6yqrauwjV-b"
      }
    },
    {
      "cell_type": "code",
      "source": [
        "def my_time1(time2, time1 = '00:00:00'):\n",
        "  t1 = time1.split(':')\n",
        "  t2 = time2.split(':')\n",
        "  h11 = t1[0]\n",
        "  m12 = t1[1]\n",
        "  s13 = t1[2]\n",
        "  h21 = t2[0]\n",
        "  m22 = t2[1]\n",
        "  s23 = t2[2]\n",
        "  ts1 = int(h11)*3600 + int(m12)*60 + int(s13)\n",
        "  ts2 = int(h21)*3600 + int(m22)*60 + int(s23)\n",
        "  print(f\"ช่วงเวลาเป็นวินาที คือ {ts2-ts1} วินาที\")"
      ],
      "metadata": {
        "id": "k9naxgkbhfqI"
      },
      "execution_count": null,
      "outputs": []
    },
    {
      "cell_type": "code",
      "source": [
        "my_time1('12:30:15')"
      ],
      "metadata": {
        "colab": {
          "base_uri": "https://localhost:8080/"
        },
        "id": "dbeILyRPhyvQ",
        "outputId": "b0d0a5ce-da60-4827-e492-901a983723b2"
      },
      "execution_count": null,
      "outputs": [
        {
          "output_type": "stream",
          "name": "stdout",
          "text": [
            "ช่วงเวลาเป็นวินาที คือ 45015 วินาที\n"
          ]
        }
      ]
    },
    {
      "cell_type": "markdown",
      "metadata": {
        "id": "UB5fTAr3bPqg"
      },
      "source": [
        "# LOOP การวนซ้ำ"
      ]
    },
    {
      "cell_type": "markdown",
      "source": [
        "##HW2"
      ],
      "metadata": {
        "id": "TfXAaWyKj_g0"
      }
    },
    {
      "cell_type": "markdown",
      "source": [
        "วนลูปหาช่วงเวลาเป็นวินาทีที่ห่างกันระหว่าง time1 และ time2 ต่อไปนี้\n",
        "\n",
        "1. 18:09:10 - 18:25:10\n",
        "2. 13:38:39 - 23:54:39\n",
        "3. 16:49:58 - 18:05:58\n",
        "4. 21:49:10 - 22:24:10\n",
        "5. 08:52:21 - 09:25:21\n",
        "6. 06:56:26 - 07:49:26\n",
        "7. 12:08:05 - 12:43:05\n",
        "8. 01:48:38 - 07:18:38\n",
        "9. 08:51:21 - 10:17:21\n",
        "10. 17:05:17 - 18:09:17\n",
        "\n",
        "\n",
        "\n",
        "\n",
        "\n",
        "\n",
        "\n"
      ],
      "metadata": {
        "id": "XkuWrIGdkus_"
      }
    },
    {
      "cell_type": "code",
      "source": [
        "def time_to_seconds(time_str):\n",
        "    h, m, s = map(int, time_str.split(':'))\n",
        "    return h * 3600 + m * 60 + s"
      ],
      "metadata": {
        "id": "eF0cXe4bkuQG"
      },
      "execution_count": null,
      "outputs": []
    },
    {
      "cell_type": "code",
      "source": [
        "def seconds_difference(time1, time2):\n",
        "    seconds1 = time_to_seconds(time1)\n",
        "    seconds2 = time_to_seconds(time2)\n",
        "    diff = seconds2 - seconds1\n",
        "    if diff < 0:\n",
        "        diff += 24 * 3600  # กรณีข้ามวัน\n",
        "    return diff"
      ],
      "metadata": {
        "id": "VaY4k-7cmb0I"
      },
      "execution_count": null,
      "outputs": []
    },
    {
      "cell_type": "code",
      "source": [
        "# tuple แก้ data ข้างในไม่ได้\n",
        "time_pairs = [\n",
        "    (\"18:09:10\", \"18:25:10\"),\n",
        "    (\"13:38:39\", \"23:54:39\"),\n",
        "    (\"16:49:58\", \"18:05:58\"),\n",
        "    (\"21:49:10\", \"22:24:10\"),\n",
        "    (\"08:52:21\", \"09:25:21\"),\n",
        "    (\"06:56:26\", \"07:49:26\"),\n",
        "    (\"12:08:05\", \"12:43:05\"),\n",
        "    (\"01:48:38\", \"07:18:38\"),\n",
        "    (\"08:51:21\", \"10:17:21\"),\n",
        "    (\"17:05:17\", \"18:09:17\")\n",
        "]\n"
      ],
      "metadata": {
        "id": "TQXEjxGaml8W"
      },
      "execution_count": null,
      "outputs": []
    },
    {
      "cell_type": "code",
      "source": [
        "for i, (time1, time2) in enumerate(time_pairs, 1):\n",
        "    diff = seconds_difference(time1, time2)\n",
        "    print(f\"{i}. ช่วงเวลาเป็นวินาทีที่ห่างกันระหว่าง {time1} - {time2} คือ {diff} วินาที\")"
      ],
      "metadata": {
        "colab": {
          "base_uri": "https://localhost:8080/"
        },
        "id": "pB0H9MKvmpZd",
        "outputId": "1d5afdbc-45be-4ceb-fbd6-73da0189927b"
      },
      "execution_count": null,
      "outputs": [
        {
          "output_type": "stream",
          "name": "stdout",
          "text": [
            "1. ช่วงเวลาเป็นวินาทีที่ห่างกันระหว่าง 18:09:10 - 18:25:10 คือ 960 วินาที\n",
            "2. ช่วงเวลาเป็นวินาทีที่ห่างกันระหว่าง 13:38:39 - 23:54:39 คือ 36960 วินาที\n",
            "3. ช่วงเวลาเป็นวินาทีที่ห่างกันระหว่าง 16:49:58 - 18:05:58 คือ 4560 วินาที\n",
            "4. ช่วงเวลาเป็นวินาทีที่ห่างกันระหว่าง 21:49:10 - 22:24:10 คือ 2100 วินาที\n",
            "5. ช่วงเวลาเป็นวินาทีที่ห่างกันระหว่าง 08:52:21 - 09:25:21 คือ 1980 วินาที\n",
            "6. ช่วงเวลาเป็นวินาทีที่ห่างกันระหว่าง 06:56:26 - 07:49:26 คือ 3180 วินาที\n",
            "7. ช่วงเวลาเป็นวินาทีที่ห่างกันระหว่าง 12:08:05 - 12:43:05 คือ 2100 วินาที\n",
            "8. ช่วงเวลาเป็นวินาทีที่ห่างกันระหว่าง 01:48:38 - 07:18:38 คือ 19800 วินาที\n",
            "9. ช่วงเวลาเป็นวินาทีที่ห่างกันระหว่าง 08:51:21 - 10:17:21 คือ 5160 วินาที\n",
            "10. ช่วงเวลาเป็นวินาทีที่ห่างกันระหว่าง 17:05:17 - 18:09:17 คือ 3840 วินาที\n"
          ]
        }
      ]
    },
    {
      "cell_type": "markdown",
      "metadata": {
        "id": "gpIwjDjg0gfJ"
      },
      "source": [
        "for เป็นคำที่ใช้บอก python ว่าเรากำลังเขียน loop\n",
        "โดย for จะวนดึงสมาชิกจาก ```listA``` มาทำ process ```do_something```"
      ]
    },
    {
      "cell_type": "markdown",
      "metadata": {
        "id": "6XS2wO4_bPqg"
      },
      "source": [
        "```python\n",
        "    for each_member in listA :\n",
        "        do_something\n",
        "```"
      ]
    },
    {
      "cell_type": "markdown",
      "metadata": {
        "id": "d7kQ2AEcbPqg"
      },
      "source": [
        "#### คำสั่ง for เป็นคำสั่งวนซ้ำที่ใช้ควบคุมการทำงานซ้ำๆ ในจำนวนรอบที่แน่นอน"
      ]
    },
    {
      "cell_type": "code",
      "metadata": {
        "colab": {
          "base_uri": "https://localhost:8080/"
        },
        "id": "NcT-s7TEbPqg",
        "outputId": "2b283a92-18e2-4ac1-b9bc-e077db96f916"
      },
      "source": [
        "for i in [1,2,3] :\n",
        "    o = i**2\n",
        "    print (f'this member = {i} after process = {o}')"
      ],
      "execution_count": null,
      "outputs": [
        {
          "output_type": "stream",
          "text": [
            "this member = 1 after process = 1\n",
            "this member = 2 after process = 4\n",
            "this member = 3 after process = 9\n"
          ],
          "name": "stdout"
        }
      ]
    },
    {
      "cell_type": "markdown",
      "metadata": {
        "id": "NMR1PEt62bqZ"
      },
      "source": [
        "# จบวันที่ 7 มค 2564"
      ]
    },
    {
      "cell_type": "markdown",
      "metadata": {
        "id": "YbnFaiU2bPqg"
      },
      "source": [
        "#### ตัวอย่างการใช้คำสั่ง for ในการวนซ้ำค่าของ i เมื่อ i คือ 'Thanapong' และคำสั่ง print(f'{i} -> /') เพื่อกำหนดให้ผลลัพธ์แสดงสัญลักษณ์ -> /  จากนั้นเพิ่มคำสั่ง print(' ') อีกครั้งเพื่อให้ผลลัพธ์มีการเว้นวรรค¶"
      ]
    },
    {
      "cell_type": "code",
      "metadata": {
        "id": "kstoI_CEbPqh",
        "outputId": "d4229c08-7f1a-4994-c08d-ff59d1c2838b",
        "colab": {
          "base_uri": "https://localhost:8080/"
        }
      },
      "source": [
        "for i in 'Thanapong':\n",
        "    print(f'{i} -> / ' )"
      ],
      "execution_count": null,
      "outputs": [
        {
          "output_type": "stream",
          "text": [
            "T -> / \n",
            "h -> / \n",
            "a -> / \n",
            "n -> / \n",
            "a -> / \n",
            "p -> / \n",
            "o -> / \n",
            "n -> / \n",
            "g -> / \n"
          ],
          "name": "stdout"
        }
      ]
    },
    {
      "cell_type": "code",
      "metadata": {
        "id": "mQmh0Ip-V8qR",
        "outputId": "a67e887f-abee-445c-dd33-16eb805b5418",
        "colab": {
          "base_uri": "https://localhost:8080/"
        }
      },
      "source": [
        "for i in 'Thanapong':\n",
        "    print(f'{i} -> / ' ,end = '') #สั่งให้ print แบบ ไม่เว้นบรรทัด"
      ],
      "execution_count": null,
      "outputs": [
        {
          "output_type": "stream",
          "text": [
            "T -> / h -> / a -> / n -> / a -> / p -> / o -> / n -> / g -> / "
          ],
          "name": "stdout"
        }
      ]
    },
    {
      "cell_type": "code",
      "metadata": {
        "id": "rswo2JlyW0Ou",
        "outputId": "85003545-c15a-4eef-ca51-12b34ffc13ad",
        "colab": {
          "base_uri": "https://localhost:8080/"
        }
      },
      "source": [
        "for i in 'Thanapong':\n",
        "    print(f'{i} -> / ' ,end = ',') #สั่งให้ print แบบ ไม่เว้นบรรทัด"
      ],
      "execution_count": null,
      "outputs": [
        {
          "output_type": "stream",
          "text": [
            "T -> / ,h -> / ,a -> / ,n -> / ,a -> / ,p -> / ,o -> / ,n -> / ,g -> / ,"
          ],
          "name": "stdout"
        }
      ]
    },
    {
      "cell_type": "markdown",
      "metadata": {
        "id": "3_I0IHOqXMIr"
      },
      "source": [
        "## สร้าง list ตัวเลขแบบอัตโนมัติ  range()"
      ]
    },
    {
      "cell_type": "code",
      "metadata": {
        "id": "ensAuLXBW-0P",
        "outputId": "f00a58d7-d9d7-4fb6-a11d-cf375cf362c7",
        "colab": {
          "base_uri": "https://localhost:8080/"
        }
      },
      "source": [
        "range5_output = range(5)\n",
        "print(list(range5_output))"
      ],
      "execution_count": null,
      "outputs": [
        {
          "output_type": "stream",
          "text": [
            "[0, 1, 2, 3, 4]\n"
          ],
          "name": "stdout"
        }
      ]
    },
    {
      "cell_type": "code",
      "metadata": {
        "id": "r8JXggPKXrEx",
        "outputId": "089ce907-1dd6-4734-9594-a014968cc33a",
        "colab": {
          "base_uri": "https://localhost:8080/"
        }
      },
      "source": [
        "for i in range(100):\n",
        "    print('งง',end=' ')"
      ],
      "execution_count": null,
      "outputs": [
        {
          "output_type": "stream",
          "text": [
            "งง งง งง งง งง งง งง งง งง งง งง งง งง งง งง งง งง งง งง งง งง งง งง งง งง งง งง งง งง งง งง งง งง งง งง งง งง งง งง งง งง งง งง งง งง งง งง งง งง งง งง งง งง งง งง งง งง งง งง งง งง งง งง งง งง งง งง งง งง งง งง งง งง งง งง งง งง งง งง งง งง งง งง งง งง งง งง งง งง งง งง งง งง งง งง งง งง งง งง งง "
          ],
          "name": "stdout"
        }
      ]
    },
    {
      "cell_type": "code",
      "metadata": {
        "id": "RLvhNqw8YpKa",
        "outputId": "4a0f60d8-2c26-4a2a-d281-eb44d3a0d2b2",
        "colab": {
          "base_uri": "https://localhost:8080/"
        }
      },
      "source": [
        "list(range(1,11)) #เริ่มต้นเป็นวงทึบ จบเป็นวงกลมโปร่ง เหมือน list slicing"
      ],
      "execution_count": null,
      "outputs": [
        {
          "output_type": "execute_result",
          "data": {
            "text/plain": [
              "[1, 2, 3, 4, 5, 6, 7, 8, 9, 10]"
            ]
          },
          "metadata": {
            "tags": []
          },
          "execution_count": 9
        }
      ]
    },
    {
      "cell_type": "code",
      "metadata": {
        "id": "MqXQ9NLGcW-r",
        "outputId": "6fafadb7-ee19-423d-a6ee-2d24b3389986",
        "colab": {
          "base_uri": "https://localhost:8080/"
        }
      },
      "source": [
        "list(range(-3,20,4))"
      ],
      "execution_count": null,
      "outputs": [
        {
          "output_type": "execute_result",
          "data": {
            "text/plain": [
              "[-3, 1, 5, 9, 13, 17]"
            ]
          },
          "metadata": {
            "tags": []
          },
          "execution_count": 11
        }
      ]
    },
    {
      "cell_type": "markdown",
      "metadata": {
        "id": "vPcR4tJebPqi"
      },
      "source": [
        "### loop in loop\n",
        "#### สามารถใช้ for loop ซ้อนกันสองรอบได้¶"
      ]
    },
    {
      "cell_type": "code",
      "metadata": {
        "id": "TKRcpd5DbPqi",
        "outputId": "ddbcb7b6-eb4f-4eb3-bb6e-6624d4309999",
        "colab": {
          "base_uri": "https://localhost:8080/"
        }
      },
      "source": [
        "for name1 in  range(2,5): #(2, 3, 4)\n",
        "    print(f'now name1 = {name1}')\n",
        "    for name2 in  range(1,13):\n",
        "        print(' ', name1,' x ',name2,' = ',name1*name2)\n",
        "    print('the inner loop is end')"
      ],
      "execution_count": null,
      "outputs": [
        {
          "output_type": "stream",
          "name": "stdout",
          "text": [
            "now name1 = 2\n",
            "  2  x  1  =  2\n",
            "  2  x  2  =  4\n",
            "  2  x  3  =  6\n",
            "  2  x  4  =  8\n",
            "  2  x  5  =  10\n",
            "  2  x  6  =  12\n",
            "  2  x  7  =  14\n",
            "  2  x  8  =  16\n",
            "  2  x  9  =  18\n",
            "  2  x  10  =  20\n",
            "  2  x  11  =  22\n",
            "  2  x  12  =  24\n",
            "the inner loop is end\n",
            "now name1 = 3\n",
            "  3  x  1  =  3\n",
            "  3  x  2  =  6\n",
            "  3  x  3  =  9\n",
            "  3  x  4  =  12\n",
            "  3  x  5  =  15\n",
            "  3  x  6  =  18\n",
            "  3  x  7  =  21\n",
            "  3  x  8  =  24\n",
            "  3  x  9  =  27\n",
            "  3  x  10  =  30\n",
            "  3  x  11  =  33\n",
            "  3  x  12  =  36\n",
            "the inner loop is end\n",
            "now name1 = 4\n",
            "  4  x  1  =  4\n",
            "  4  x  2  =  8\n",
            "  4  x  3  =  12\n",
            "  4  x  4  =  16\n",
            "  4  x  5  =  20\n",
            "  4  x  6  =  24\n",
            "  4  x  7  =  28\n",
            "  4  x  8  =  32\n",
            "  4  x  9  =  36\n",
            "  4  x  10  =  40\n",
            "  4  x  11  =  44\n",
            "  4  x  12  =  48\n",
            "the inner loop is end\n"
          ]
        }
      ]
    },
    {
      "cell_type": "markdown",
      "metadata": {
        "id": "7-FAZit8bPqi"
      },
      "source": [
        "### loop in function\n",
        "#### การวนลูปในฟังก์ชั่น¶"
      ]
    },
    {
      "cell_type": "code",
      "metadata": {
        "id": "S0r5yhbDbPqi"
      },
      "source": [
        "def print_feelings(I,friendS,feeling = 'คิดถึง'):\n",
        "    for friend in friendS:\n",
        "        print(f'{I} {feeling} {friend}')"
      ],
      "execution_count": null,
      "outputs": []
    },
    {
      "cell_type": "code",
      "metadata": {
        "id": "_oVKj4SRfGS6"
      },
      "source": [
        "list_friends = ['พี่บูม','ดายน์','แตงโม','ฝน','พี่เจ็ท','น้องแคมป์']"
      ],
      "execution_count": null,
      "outputs": []
    },
    {
      "cell_type": "code",
      "metadata": {
        "id": "RepVZqu6bPqi",
        "outputId": "644fddf2-a94e-4193-e49c-8e545b89fff4",
        "colab": {
          "base_uri": "https://localhost:8080/"
        }
      },
      "source": [
        "print_feelings('เจมส์',list_friends)"
      ],
      "execution_count": null,
      "outputs": [
        {
          "output_type": "stream",
          "text": [
            "เจมส์ คิดถึง พี่บูม\n",
            "เจมส์ คิดถึง ดายน์\n",
            "เจมส์ คิดถึง แตงโม\n",
            "เจมส์ คิดถึง ฝน\n",
            "เจมส์ คิดถึง พี่เจ็ท\n",
            "เจมส์ คิดถึง น้องแคมป์\n"
          ],
          "name": "stdout"
        }
      ]
    },
    {
      "cell_type": "code",
      "metadata": {
        "id": "P20pDnVaf2vK",
        "outputId": "d9c1745b-b67c-485f-c8f6-f913e354f52a",
        "colab": {
          "base_uri": "https://localhost:8080/"
        }
      },
      "source": [
        "print_feelings('เจมส์',list_friends,feeling='รัก')"
      ],
      "execution_count": null,
      "outputs": [
        {
          "output_type": "stream",
          "text": [
            "เจมส์ รัก พี่บูม\n",
            "เจมส์ รัก ดายน์\n",
            "เจมส์ รัก แตงโม\n",
            "เจมส์ รัก ฝน\n",
            "เจมส์ รัก พี่เจ็ท\n",
            "เจมส์ รัก น้องแคมป์\n"
          ],
          "name": "stdout"
        }
      ]
    },
    {
      "cell_type": "code",
      "metadata": {
        "id": "SzHamL8JhKG4",
        "outputId": "770cd9ef-3efe-4bb2-c103-9496172cb407",
        "colab": {
          "base_uri": "https://localhost:8080/"
        }
      },
      "source": [
        "print_feelings('เจมส์',list_friends,'รัก')"
      ],
      "execution_count": null,
      "outputs": [
        {
          "output_type": "stream",
          "text": [
            "เจมส์ รัก พี่บูม\n",
            "เจมส์ รัก ดายน์\n",
            "เจมส์ รัก แตงโม\n",
            "เจมส์ รัก ฝน\n",
            "เจมส์ รัก พี่เจ็ท\n",
            "เจมส์ รัก น้องแคมป์\n"
          ],
          "name": "stdout"
        }
      ]
    },
    {
      "cell_type": "markdown",
      "source": [
        "##Dictionary (Data Structure)\n",
        "โครงสร้างข้อมูลที่จัดเก็บข้อมูล โดยการอ้างอิงโดย text\n",
        "วงเล็บ ```{}``` Curly Brackets"
      ],
      "metadata": {
        "id": "hafkF1UiVUGG"
      }
    },
    {
      "cell_type": "code",
      "source": [
        "Ex_dict_A = {'memberA':[1, 2, 3], 'memberB':8, 'memberC':'abc'}"
      ],
      "metadata": {
        "id": "d4Jr7cVUV4Al"
      },
      "execution_count": null,
      "outputs": []
    },
    {
      "cell_type": "code",
      "source": [
        "Ex_dict_A"
      ],
      "metadata": {
        "colab": {
          "base_uri": "https://localhost:8080/"
        },
        "id": "s0v_cQMHWxX3",
        "outputId": "7032d361-09ca-4967-a6a1-1f9a7f02187e"
      },
      "execution_count": null,
      "outputs": [
        {
          "output_type": "execute_result",
          "data": {
            "text/plain": [
              "{'memberA': [1, 2, 3], 'memberB': 8, 'memberC': 'abc'}"
            ]
          },
          "metadata": {},
          "execution_count": 20
        }
      ]
    },
    {
      "cell_type": "code",
      "source": [
        "Ex_dict_A['memberA'][1]"
      ],
      "metadata": {
        "colab": {
          "base_uri": "https://localhost:8080/"
        },
        "id": "Ir2qeyygW6un",
        "outputId": "b9ed7fb2-8c94-49e7-f14a-b63146f27a7a"
      },
      "execution_count": null,
      "outputs": [
        {
          "output_type": "execute_result",
          "data": {
            "text/plain": [
              "2"
            ]
          },
          "metadata": {},
          "execution_count": 21
        }
      ]
    },
    {
      "cell_type": "markdown",
      "metadata": {
        "id": "vwK7RmRJbPqj"
      },
      "source": [
        "### looping in dict\n",
        "#### ทำการวนลูปในค่า dict โดยที่เรากำหนดตัว key และvalueขึ้นมา ได้ดังนี้\n"
      ]
    },
    {
      "cell_type": "code",
      "metadata": {
        "id": "HI0F-4HobPqj",
        "outputId": "fb773ee3-c9a3-4387-c3c9-7a389d7f1920",
        "colab": {
          "base_uri": "https://localhost:8080/"
        }
      },
      "source": [
        "name_grade = {'พันทิพา' : 'B','ศุภนิตา' : 'C','ปนัดดา' : 'A','ทรงกลด' : 'F'}\n",
        "name_grade"
      ],
      "execution_count": null,
      "outputs": [
        {
          "output_type": "execute_result",
          "data": {
            "text/plain": [
              "{'พันทิพา': 'B', 'ศุภนิตา': 'C', 'ปนัดดา': 'A', 'ทรงกลด': 'F'}"
            ]
          },
          "metadata": {},
          "execution_count": 23
        }
      ]
    },
    {
      "cell_type": "code",
      "metadata": {
        "id": "jWf8aBmpbPqj",
        "outputId": "e67cfb79-1730-4d8a-9c3d-5cfbafc92c2c",
        "colab": {
          "base_uri": "https://localhost:8080/",
          "height": 36
        }
      },
      "source": [
        "name_grade['ปนัดดา']"
      ],
      "execution_count": null,
      "outputs": [
        {
          "output_type": "execute_result",
          "data": {
            "text/plain": [
              "'A'"
            ],
            "application/vnd.google.colaboratory.intrinsic+json": {
              "type": "string"
            }
          },
          "metadata": {},
          "execution_count": 24
        }
      ]
    },
    {
      "cell_type": "code",
      "metadata": {
        "scrolled": true,
        "id": "eDqhoebhbPqj",
        "outputId": "404c9691-cc9c-450b-ec2b-207cc8409bce",
        "colab": {
          "base_uri": "https://localhost:8080/"
        }
      },
      "source": [
        "for i in name_grade.keys():\n",
        "    print(i)"
      ],
      "execution_count": null,
      "outputs": [
        {
          "output_type": "stream",
          "name": "stdout",
          "text": [
            "พันทิพา\n",
            "ศุภนิตา\n",
            "ปนัดดา\n",
            "ทรงกลด\n"
          ]
        }
      ]
    },
    {
      "cell_type": "code",
      "metadata": {
        "id": "4CPaOKx-bPqj",
        "outputId": "3fd4e58c-b252-4671-bf46-7750a17f9c11",
        "colab": {
          "base_uri": "https://localhost:8080/"
        }
      },
      "source": [
        "name_grade.keys()"
      ],
      "execution_count": null,
      "outputs": [
        {
          "output_type": "execute_result",
          "data": {
            "text/plain": [
              "dict_keys(['พันทิพา', 'ศุภนิตา', 'ปนัดดา', 'ทรงกลด'])"
            ]
          },
          "metadata": {},
          "execution_count": 26
        }
      ]
    },
    {
      "cell_type": "code",
      "source": [
        "name_grade.values()"
      ],
      "metadata": {
        "colab": {
          "base_uri": "https://localhost:8080/"
        },
        "id": "hPYSubXsYdfG",
        "outputId": "5dc07890-1d43-4727-8a1c-7bff32c70a1a"
      },
      "execution_count": null,
      "outputs": [
        {
          "output_type": "execute_result",
          "data": {
            "text/plain": [
              "dict_values(['B', 'C', 'A', 'F'])"
            ]
          },
          "metadata": {},
          "execution_count": 29
        }
      ]
    },
    {
      "cell_type": "code",
      "metadata": {
        "id": "Imvq4faObPqj",
        "outputId": "7a200df9-205b-4951-a14f-32fc79815d92",
        "colab": {
          "base_uri": "https://localhost:8080/"
        }
      },
      "source": [
        "#loop dict ต้อง loop ตรง key เพราะจะได้รู้ว่าเป็นค่าของอะไร loop ตรง values ไม่รู้ว่าเป็นของใคร\n",
        "for i in name_grade.keys():\n",
        "    print(f'{i} ได้เกรด {name_grade[i]}')"
      ],
      "execution_count": null,
      "outputs": [
        {
          "output_type": "stream",
          "name": "stdout",
          "text": [
            "พันทิพา ได้เกรด B\n",
            "ศุภนิตา ได้เกรด C\n",
            "ปนัดดา ได้เกรด A\n",
            "ทรงกลด ได้เกรด F\n"
          ]
        }
      ]
    },
    {
      "cell_type": "markdown",
      "source": [],
      "metadata": {
        "id": "qgTaeAJKacay"
      }
    },
    {
      "cell_type": "markdown",
      "metadata": {
        "id": "pLDGW8IobPqk"
      },
      "source": [
        "### conditional คือ เงื่อนไข /ประโยคเงื่อนไข"
      ]
    },
    {
      "cell_type": "markdown",
      "source": [
        "ชนิดตัวแปรที่เกี่ยวข้อง Boolean (True, False)"
      ],
      "metadata": {
        "id": "wUQPzi0_cdgt"
      }
    },
    {
      "cell_type": "code",
      "source": [
        "#True = 1, False = 0\n",
        "condition_1 = True\n",
        "condition_2 = False"
      ],
      "metadata": {
        "id": "3KRtlXzDctln"
      },
      "execution_count": null,
      "outputs": []
    },
    {
      "cell_type": "markdown",
      "metadata": {
        "id": "8_-zCLkrbPqk"
      },
      "source": [
        "##### การวนลูปโดยมีเงื่อนไขต่างๆมาเกี่ยวข้อง โดยมี pattern ดังนี้\n"
      ]
    },
    {
      "cell_type": "markdown",
      "metadata": {
        "id": "ZQuWb-bybPqk"
      },
      "source": [
        "```Python\n",
        "if condition1 :\n",
        "    do something\n",
        "elif condition2 :  #elif คือ else if\n",
        "    do another thing\n",
        "else:\n",
        "    do ...\n",
        "```\n",
        "    "
      ]
    },
    {
      "cell_type": "code",
      "source": [
        "def time_to_second(time1):\n",
        "    time1_list = time1.split(':')\n",
        "    time1_sec = int(time1_list[0])*3600 + int(time1_list[1])*60 + int(time1_list[2])\n",
        "    return time1_sec"
      ],
      "metadata": {
        "id": "kf4PBwB6eatS"
      },
      "execution_count": null,
      "outputs": []
    },
    {
      "cell_type": "code",
      "source": [
        "time_list =  [\n",
        "    (\"18:09:10\", \"18:25:10\"),\n",
        "    (\"13:38:39\", \"23:54:39\"),\n",
        "    (\"16:49:58\", \"18:05:58\"),\n",
        "    (\"21:49:10\", \"22:24:10\"),\n",
        "    (\"08:52:21\", \"09:25:21\"),\n",
        "    (\"06:56:26\", \"07:49:26\"),\n",
        "    (\"12:08:05\", \"12:43:05\"),\n",
        "    (\"01:48:38\", \"07:18:38\"),\n",
        "    (\"08:51:21\", \"10:17:21\"),\n",
        "    (\"17:05:17\", \"18:09:17\"),\n",
        "    (\"18:51:21\", \"00:17:21\"),\n",
        "    (\"17:05:17\", \"11:09:17\")]"
      ],
      "metadata": {
        "id": "LxRiqq-ldo1x"
      },
      "execution_count": null,
      "outputs": []
    },
    {
      "cell_type": "code",
      "source": [
        "for time1,time2 in time_list:\n",
        "  if time_to_second(time1) < time_to_second (time2):#ถ้า time1 < time2\n",
        "    diff_seconds = time_to_second(time2) - time_to_second(time1)\n",
        "  elif time_to_second(time1) > time_to_second (time2):#ถ้า time1 ไม่น้อยกว่า time2\n",
        "    diff_seconds = time_to_second(time2) + 24*3600 - time_to_second(time1)\n",
        "  print(f\"Time difference between {time1} - {time2} is {diff_seconds} seconds\")"
      ],
      "metadata": {
        "colab": {
          "base_uri": "https://localhost:8080/"
        },
        "id": "ueKUZ_oHdoy1",
        "outputId": "bf3b6332-fc0e-43b9-c04b-24cffb45206b"
      },
      "execution_count": null,
      "outputs": [
        {
          "output_type": "stream",
          "name": "stdout",
          "text": [
            "Time difference between 18:09:10 - 18:25:10 is 960 seconds\n",
            "Time difference between 13:38:39 - 23:54:39 is 36960 seconds\n",
            "Time difference between 16:49:58 - 18:05:58 is 4560 seconds\n",
            "Time difference between 21:49:10 - 22:24:10 is 2100 seconds\n",
            "Time difference between 08:52:21 - 09:25:21 is 1980 seconds\n",
            "Time difference between 06:56:26 - 07:49:26 is 3180 seconds\n",
            "Time difference between 12:08:05 - 12:43:05 is 2100 seconds\n",
            "Time difference between 01:48:38 - 07:18:38 is 19800 seconds\n",
            "Time difference between 08:51:21 - 10:17:21 is 5160 seconds\n",
            "Time difference between 17:05:17 - 18:09:17 is 3840 seconds\n",
            "Time difference between 18:51:21 - 00:17:21 is 19560 seconds\n",
            "Time difference between 17:05:17 - 11:09:17 is 65040 seconds\n"
          ]
        }
      ]
    },
    {
      "cell_type": "markdown",
      "source": [
        "#HW3\n",
        "เพิ่มฟังก์ชันแปลงวินาทีกลับมาเป็น ชั่วโมง นาที วินาที โดยไม่ใช้ฟังก์ชันช่วยเหลืออื่น ๆ ของ python ~~(import)~~ ถ้าส่วนของ ชั่วโมง นาที วินาที เป็นศูนย์ ไม่ต้องแสดง"
      ],
      "metadata": {
        "id": "4QtK9nRjg3TJ"
      }
    },
    {
      "cell_type": "code",
      "source": [
        "def seconds_to_time(seconds):\n",
        "    hours = seconds // 3600\n",
        "    minutes = (seconds % 3600) // 60\n",
        "    if hours > 0 and minutes > 0:\n",
        "        return f\"{hours} hour{'s' if hours > 1 else ''} and {minutes} minute{'s' if minutes > 1 else ''}\"\n",
        "    elif hours > 0:\n",
        "        return f\"{hours} hour{'s' if hours > 1 else ''}\"\n",
        "    elif minutes > 0:\n",
        "        return f\"{minutes} minute{'s' if minutes > 1 else ''}\"\n",
        "    else:\n",
        "        return \"0 minutes\"  # For the case that every values is 0"
      ],
      "metadata": {
        "id": "YvrFi9DJRTwB"
      },
      "execution_count": 17,
      "outputs": []
    },
    {
      "cell_type": "code",
      "source": [
        "time_list = [\n",
        "    (\"18:09:10\", \"18:25:10\"),\n",
        "    (\"13:38:39\", \"23:54:39\"),\n",
        "    (\"16:49:58\", \"18:05:58\"),\n",
        "    (\"21:49:10\", \"22:24:10\"),\n",
        "    (\"08:52:21\", \"09:25:21\"),\n",
        "    (\"06:56:26\", \"07:49:26\"),\n",
        "    (\"12:08:05\", \"12:43:05\"),\n",
        "    (\"01:48:38\", \"07:18:38\"),\n",
        "    (\"08:51:21\", \"10:17:21\"),\n",
        "    (\"17:05:17\", \"18:09:17\"),\n",
        "    (\"18:51:21\", \"00:17:21\"),\n",
        "    (\"17:05:17\", \"11:09:17\")\n",
        "]"
      ],
      "metadata": {
        "id": "xuUYe9uYKwhV"
      },
      "execution_count": 18,
      "outputs": []
    },
    {
      "cell_type": "code",
      "source": [
        "for time1, time2 in time_list:\n",
        "    if time_to_second(time1) < time_to_second(time2):\n",
        "        diff_seconds = time_to_second(time2) - time_to_second(time1)\n",
        "    elif time_to_second(time1) > time_to_second(time2):\n",
        "        diff_seconds = time_to_second(time2) + 24*3600 - time_to_second(time1)\n",
        "    else:\n",
        "        diff_seconds = 0  # Handle case where times are equal (though not in the provided data)\n",
        "\n",
        "    time_diff = seconds_to_time(diff_seconds)\n",
        "    print(f\"Time difference between {time1} - {time2} is {time_diff}\")"
      ],
      "metadata": {
        "colab": {
          "base_uri": "https://localhost:8080/"
        },
        "id": "O54cRodbRbdJ",
        "outputId": "10fe0675-debf-4220-8911-1c94c4025f29"
      },
      "execution_count": 19,
      "outputs": [
        {
          "output_type": "stream",
          "name": "stdout",
          "text": [
            "Time difference between 18:09:10 - 18:25:10 is 16 minutes\n",
            "Time difference between 13:38:39 - 23:54:39 is 10 hours and 16 minutes\n",
            "Time difference between 16:49:58 - 18:05:58 is 1 hour and 16 minutes\n",
            "Time difference between 21:49:10 - 22:24:10 is 35 minutes\n",
            "Time difference between 08:52:21 - 09:25:21 is 33 minutes\n",
            "Time difference between 06:56:26 - 07:49:26 is 53 minutes\n",
            "Time difference between 12:08:05 - 12:43:05 is 35 minutes\n",
            "Time difference between 01:48:38 - 07:18:38 is 5 hours and 30 minutes\n",
            "Time difference between 08:51:21 - 10:17:21 is 1 hour and 26 minutes\n",
            "Time difference between 17:05:17 - 18:09:17 is 1 hour and 4 minutes\n",
            "Time difference between 18:51:21 - 00:17:21 is 5 hours and 26 minutes\n",
            "Time difference between 17:05:17 - 11:09:17 is 18 hours and 4 minutes\n"
          ]
        }
      ]
    },
    {
      "cell_type": "markdown",
      "metadata": {
        "id": "kUPdCRG7bPqk"
      },
      "source": [
        "#### ==, !=,>=,<=,<,>\n",
        "\n",
        "\n",
        "1.   == :The operator will return “true” if both the operands are equal.\n",
        "\n"
      ]
    },
    {
      "cell_type": "code",
      "metadata": {
        "id": "p4IXGFYDm_e-",
        "outputId": "7d7127fe-79eb-4f2a-da12-ef134206aa2a",
        "colab": {
          "base_uri": "https://localhost:8080/"
        }
      },
      "source": [
        "'พี่บูม' == 'พี่เจ็ท'"
      ],
      "execution_count": null,
      "outputs": [
        {
          "output_type": "execute_result",
          "data": {
            "text/plain": [
              "False"
            ]
          },
          "metadata": {
            "tags": []
          },
          "execution_count": 31
        }
      ]
    },
    {
      "cell_type": "code",
      "metadata": {
        "id": "yXA87OOmnH4A",
        "outputId": "3c36a82d-6264-448c-b1bf-4e69dc7d2c27",
        "colab": {
          "base_uri": "https://localhost:8080/"
        }
      },
      "source": [
        "'พี่บูม' != 'พี่เจ็ท'"
      ],
      "execution_count": null,
      "outputs": [
        {
          "output_type": "execute_result",
          "data": {
            "text/plain": [
              "True"
            ]
          },
          "metadata": {
            "tags": []
          },
          "execution_count": 32
        }
      ]
    },
    {
      "cell_type": "markdown",
      "metadata": {
        "id": "OavN4AjAbPqk"
      },
      "source": [
        "#### หากหลังเงื่อนไข True ถูกต้องจะทำการ print ข้อความออกมาว่า Yes"
      ]
    },
    {
      "cell_type": "code",
      "metadata": {
        "id": "QPxAQKm4bPql",
        "outputId": "20063882-d97c-451a-fe85-35f663c82a7f"
      },
      "source": [
        "if True:\n",
        "    print('Yes')"
      ],
      "execution_count": null,
      "outputs": [
        {
          "output_type": "stream",
          "text": [
            "Yes\n"
          ],
          "name": "stdout"
        }
      ]
    },
    {
      "cell_type": "code",
      "metadata": {
        "id": "tqdBRcVSbPql"
      },
      "source": [
        "if False:\n",
        "    print('No')"
      ],
      "execution_count": null,
      "outputs": []
    },
    {
      "cell_type": "markdown",
      "metadata": {
        "id": "_9xpvw3jbPql"
      },
      "source": [
        "#### หากหลังเงื่อนไข False ไม่ถูกต้องจะไม่ปริ้นข้อความใดๆออกมา\n",
        "#### ซึ่งจะต้องใช้เงื่อนไขนี้ จึงจะได้ปริ้นค่าเงื่อนไขนั้นออกมา ดังนี้"
      ]
    },
    {
      "cell_type": "code",
      "metadata": {
        "id": "1e0IcdsMbPql",
        "outputId": "cb6bf9a5-9ede-4cfe-e9d1-577323e40eac",
        "colab": {
          "base_uri": "https://localhost:8080/"
        }
      },
      "source": [
        "if False:\n",
        "    print('Yes')\n",
        "else:\n",
        "    print('No')"
      ],
      "execution_count": null,
      "outputs": [
        {
          "output_type": "stream",
          "text": [
            "No\n"
          ],
          "name": "stdout"
        }
      ]
    },
    {
      "cell_type": "markdown",
      "metadata": {
        "id": "sSySEFHNbPql"
      },
      "source": [
        "# HW4\n",
        "#### เขียน function ตัดเกรด โดยที่ input เป็นคะแนน(0-100) , output เป็นเกรด (F-A)\n",
        "#### วนลูปตัดเกรด input = [1,50,65,90,101,-5,49]"
      ]
    },
    {
      "cell_type": "code",
      "source": [
        "def calculate_grade(score):\n",
        "    if score < 0 or score > 100:\n",
        "        raise ValueError(\"Score must be between 0 and 100 inclusive.\")\n",
        "\n",
        "    if score < 50:\n",
        "        return \"F\"\n",
        "    elif score < 55:\n",
        "        return \"D\"\n",
        "    elif score < 60:\n",
        "        return \"D+\"\n",
        "    elif score < 65:\n",
        "        return \"C\"\n",
        "    elif score < 70:\n",
        "        return \"C+\"\n",
        "    elif score < 75:\n",
        "        return \"B\"\n",
        "    elif score < 80:\n",
        "        return \"B+\"\n",
        "    else:\n",
        "        return \"A\""
      ],
      "metadata": {
        "id": "hDijgO25PE3F"
      },
      "execution_count": 6,
      "outputs": []
    },
    {
      "cell_type": "code",
      "source": [
        "score = [-1, 49, 54, 59, 64, 69, 74, 79, 80, 101]"
      ],
      "metadata": {
        "id": "jb7BZJUNSXaG"
      },
      "execution_count": 25,
      "outputs": []
    },
    {
      "cell_type": "code",
      "source": [
        "for i in score:\n",
        "    try:\n",
        "        print(f\"Score: {i}, Grade: {calculate_grade(i)}\")\n",
        "    except ValueError as e:\n",
        "        print(f\"Invalid score: {i}. {e}\")"
      ],
      "metadata": {
        "colab": {
          "base_uri": "https://localhost:8080/"
        },
        "id": "DZ0IWUA7SvqM",
        "outputId": "741ac58b-58e8-42e4-f906-780953cf0d1a"
      },
      "execution_count": 26,
      "outputs": [
        {
          "output_type": "stream",
          "name": "stdout",
          "text": [
            "Invalid score: -1. Score must be between 0 and 100 inclusive.\n",
            "Score: 49, Grade: F\n",
            "Score: 54, Grade: D\n",
            "Score: 59, Grade: D+\n",
            "Score: 64, Grade: C\n",
            "Score: 69, Grade: C+\n",
            "Score: 74, Grade: B\n",
            "Score: 79, Grade: B+\n",
            "Score: 80, Grade: A\n",
            "Invalid score: 101. Score must be between 0 and 100 inclusive.\n"
          ]
        }
      ]
    },
    {
      "cell_type": "markdown",
      "metadata": {
        "id": "c3TDhZHzbPqm"
      },
      "source": [
        "##### กำหนด\n",
        "      ถ้าคะแนนอยู่ระหว่างมากกว่าหรือเท่ากับ  0  แต่น้อยกว่า 50 จะได้เกรด F\n",
        "      ถ้าคะแนนอยู่ระหว่างมากกว่าหรือเท่ากับ 50 แต่น้อยกว่า 55 จะได้เกรด D\n",
        "      ถ้าคะแนนอยู่ระหว่างมากกว่าหรือเท่ากับ 55 แต่น้อยกว่า 60 จะได้เกรด D+\n",
        "      ถ้าคะแนนอยู่ระหว่างมากกว่าหรือเท่ากับ 60 แต่น้อยกว่า 65 จะได้เกรด C\n",
        "      ถ้าคะแนนอยู่ระหว่างมากกว่าหรือเท่ากับ 65 แต่น้อยกว่า 70 จะได้เกรด C+\n",
        "      ถ้าคะแนนอยู่ระหว่างมากกว่าหรือเท่ากับ 70 แต่น้อยกว่า 75 จะได้เกรด B\n",
        "      ถ้าคะแนนอยู่ระหว่างมากกว่าหรือเท่ากับ 75 แต่น้อยกว่า 80 จะได้เกรด B+\n",
        "      ถ้าคะแนนอยู่ระหว่างมากกว่าหรือเท่ากับ 80  จะได้เกรด A\n",
        "      แต่ว่าค่าคะแนนจะต้องไม่ต่ำกว่า 0 และมากกว่า 100 ไม่งั้นจะเกิด error"
      ]
    },
    {
      "cell_type": "markdown",
      "source": [
        "## &, |, in, is: Other Operators"
      ],
      "metadata": {
        "id": "Csmi81k5ixvR"
      }
    },
    {
      "cell_type": "code",
      "source": [
        "if True and True:\n",
        "    print(True & True)"
      ],
      "metadata": {
        "colab": {
          "base_uri": "https://localhost:8080/"
        },
        "id": "dsnMWdVYjL4D",
        "outputId": "ffe3dd2f-8712-4408-bf4d-968216cd955c"
      },
      "execution_count": null,
      "outputs": [
        {
          "output_type": "stream",
          "name": "stdout",
          "text": [
            "True\n"
          ]
        }
      ]
    },
    {
      "cell_type": "code",
      "source": [
        "if (1>0) & (0>-1):\n",
        "  print(True & True)"
      ],
      "metadata": {
        "colab": {
          "base_uri": "https://localhost:8080/"
        },
        "id": "tGOIzGZQjroJ",
        "outputId": "8e6ee3ff-435b-415d-e77f-cf169f6226ec"
      },
      "execution_count": null,
      "outputs": [
        {
          "output_type": "stream",
          "name": "stdout",
          "text": [
            "True\n"
          ]
        }
      ]
    },
    {
      "cell_type": "code",
      "source": [
        "if 'T' in 'Thanapong':\n",
        "    print('T in Thanapong')"
      ],
      "metadata": {
        "colab": {
          "base_uri": "https://localhost:8080/"
        },
        "id": "ddzKGcXkkIxs",
        "outputId": "cd9bf5c5-a317-4292-b536-2dfda90f29e4"
      },
      "execution_count": null,
      "outputs": [
        {
          "output_type": "stream",
          "name": "stdout",
          "text": [
            "T in Thanapong\n"
          ]
        }
      ]
    },
    {
      "cell_type": "code",
      "source": [
        "#Function not return the values\n",
        "def return_nothing(x):\n",
        "  x = x+1"
      ],
      "metadata": {
        "id": "kUfC8rw4lKBn"
      },
      "execution_count": null,
      "outputs": []
    },
    {
      "cell_type": "code",
      "source": [
        "a = return_nothing(5)"
      ],
      "metadata": {
        "id": "y82zTV34lgKB"
      },
      "execution_count": null,
      "outputs": []
    },
    {
      "cell_type": "code",
      "source": [
        "if a is None:\n",
        "  print('x is Null')\n",
        "#Function not return the values เลย print null"
      ],
      "metadata": {
        "colab": {
          "base_uri": "https://localhost:8080/"
        },
        "id": "f0fTvG3XkjCp",
        "outputId": "73529256-4b35-41dd-e692-d682a33fe728"
      },
      "execution_count": null,
      "outputs": [
        {
          "output_type": "stream",
          "name": "stdout",
          "text": [
            "x is Null\n"
          ]
        }
      ]
    },
    {
      "cell_type": "markdown",
      "metadata": {
        "id": "Bg3vVE3GbPqn"
      },
      "source": [
        "# Finish"
      ]
    }
  ]
}