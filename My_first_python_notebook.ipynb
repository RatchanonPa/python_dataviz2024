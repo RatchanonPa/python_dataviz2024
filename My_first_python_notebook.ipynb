{
  "nbformat": 4,
  "nbformat_minor": 0,
  "metadata": {
    "colab": {
      "provenance": [],
      "authorship_tag": "ABX9TyOhUyF9wapODt1Vo1UxsFpI",
      "include_colab_link": true
    },
    "kernelspec": {
      "name": "python3",
      "display_name": "Python 3"
    },
    "language_info": {
      "name": "python"
    }
  },
  "cells": [
    {
      "cell_type": "markdown",
      "metadata": {
        "id": "view-in-github",
        "colab_type": "text"
      },
      "source": [
        "<a href=\"https://colab.research.google.com/github/RatchanonPa/python_dataviz2024/blob/main/My_first_python_notebook.ipynb\" target=\"_parent\"><img src=\"https://colab.research.google.com/assets/colab-badge.svg\" alt=\"Open In Colab\"/></a>"
      ]
    },
    {
      "cell_type": "markdown",
      "source": [
        "#Basic Programming for Data Science & Data Visualization\n",
        "here we use Markdown"
      ],
      "metadata": {
        "id": "NHF0XAZSRjds"
      }
    },
    {
      "cell_type": "code",
      "execution_count": null,
      "metadata": {
        "colab": {
          "base_uri": "https://localhost:8080/"
        },
        "id": "tFXITkimQ8V4",
        "outputId": "d0b8e452-0540-477f-a0c1-86525cace05e"
      },
      "outputs": [
        {
          "output_type": "stream",
          "name": "stdout",
          "text": [
            "Ratchanon\n"
          ]
        }
      ],
      "source": [
        "print('Ratchanon')"
      ]
    },
    {
      "cell_type": "code",
      "source": [
        "print('Pankalasin')"
      ],
      "metadata": {
        "colab": {
          "base_uri": "https://localhost:8080/"
        },
        "id": "g4GGV9_1S_5_",
        "outputId": "83ae0c46-20a1-4b04-8869-f88bd6920bf8"
      },
      "execution_count": null,
      "outputs": [
        {
          "output_type": "stream",
          "name": "stdout",
          "text": [
            "Pankalasin\n"
          ]
        }
      ]
    }
  ]
}